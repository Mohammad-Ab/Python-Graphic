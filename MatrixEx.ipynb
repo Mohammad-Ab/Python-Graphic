{
  "nbformat": 4,
  "nbformat_minor": 0,
  "metadata": {
    "colab": {
      "provenance": [],
      "gpuType": "T4",
      "authorship_tag": "ABX9TyNpLkyA88TKPLICHlmeNnMG",
      "include_colab_link": true
    },
    "kernelspec": {
      "name": "python3",
      "display_name": "Python 3"
    },
    "language_info": {
      "name": "python"
    },
    "gpuClass": "standard"
  },
  "cells": [
    {
      "cell_type": "markdown",
      "metadata": {
        "id": "view-in-github",
        "colab_type": "text"
      },
      "source": [
        "<a href=\"https://colab.research.google.com/github/Mohammad-Ab/Python-Graphic/blob/main/MatrixEx.ipynb\" target=\"_parent\"><img src=\"https://colab.research.google.com/assets/colab-badge.svg\" alt=\"Open In Colab\"/></a>"
      ]
    },
    {
      "cell_type": "code",
      "execution_count": null,
      "metadata": {
        "colab": {
          "base_uri": "https://localhost:8080/"
        },
        "id": "OlMUVh2_JqfK",
        "outputId": "cea103c9-d849-4aee-8ebb-37c2ba8b39a1"
      },
      "outputs": [
        {
          "output_type": "stream",
          "name": "stdout",
          "text": [
            "please enter number of your row:4\n",
            "please enter number of your columns:4\n",
            "the array before make opration\n",
            "[[1 2 2 9]\n",
            " [3 7 2 3]\n",
            " [6 3 4 8]\n",
            " [8 1 1 2]]\n",
            "--------------------------------\n",
            "[[3 7 2 3]\n",
            " [1 2 2 9]\n",
            " [8 1 1 2]\n",
            " [6 3 4 8]]\n"
          ]
        }
      ],
      "source": [
        "#number 1\n",
        "import numpy as np\n",
        "\n",
        "def main():\n",
        "  x=int(input(\"please enter number of your row:\"))\n",
        "  y=int(input(\"please enter number of your columns:\"))\n",
        "  array = np.random.randint(10, size=(x,y))\n",
        "  cal(array,x,y)\n",
        "def cal(array,x,y):\n",
        "  print(\"the array before make opration\")\n",
        "  print(array)\n",
        "  print(\"--------------------------------\")\n",
        "  for i in range(int(x/2)):\n",
        "    array[[2*i,2*i+1]] = array[[2*i+1,2*i]]\n",
        "  print(array)\n",
        "\n",
        "main()\n"
      ]
    },
    {
      "cell_type": "code",
      "source": [
        "#number 2\n",
        "import numpy as np\n",
        "\n",
        "def main():\n",
        "  x=int(input(\"please enter number of your row:\"))\n",
        "  y=int(input(\"please enter number of your columns:\"))\n",
        "  array = np.random.randint(10, size=(x,y))\n",
        "  cal(array,x,y)\n",
        "def cal(array,x,y):\n",
        "  print(\"the array before make opration\")\n",
        "  print(array)\n",
        "  print(\"--------------------------------\")\n",
        "  for i in range(int(x/2)):\n",
        "    array[: , [2*i,2*i+1]] = array[: , [2*i+1,2*i]]\n",
        "  print(array)\n",
        "\n",
        "main()"
      ],
      "metadata": {
        "id": "ZoRwACqLmAIa",
        "colab": {
          "base_uri": "https://localhost:8080/"
        },
        "outputId": "f1f4b7c1-0d19-40bc-cbe8-3cc0b80da81c"
      },
      "execution_count": null,
      "outputs": [
        {
          "output_type": "stream",
          "name": "stdout",
          "text": [
            "please enter number of your row:4\n",
            "please enter number of your columns:4\n",
            "the array before make opration\n",
            "[[1 0 4 5]\n",
            " [7 1 4 1]\n",
            " [6 2 4 9]\n",
            " [6 4 9 0]]\n",
            "--------------------------------\n",
            "[[0 1 5 4]\n",
            " [1 7 1 4]\n",
            " [2 6 9 4]\n",
            " [4 6 0 9]]\n"
          ]
        }
      ]
    },
    {
      "cell_type": "code",
      "source": [
        "#number 3\n",
        "import numpy as np\n",
        "\n",
        "def main():\n",
        "  x=int(input(\"please enter number of your row:\"))\n",
        "  y=int(input(\"please enter number of your columns:\"))\n",
        "  array = np.random.randint(10, size=(x,y))\n",
        "  cal(array,x,y)\n",
        "def cal(array,x,y):\n",
        "  print(\"the array before make opration\")\n",
        "  print(array)\n",
        "  print(\"--------------------------------\")\n",
        "  for i in range(int(x/2)):\n",
        "    array[[2*i,2*i+1]] = array[[2*i+1,2*i]]\n",
        "  \n",
        "  for i in range(int(x/2)):\n",
        "    array[: , [2*i,2*i+1]] = array[: , [2*i+1,2*i]]\n",
        "  print(array)\n",
        "\n",
        "main()"
      ],
      "metadata": {
        "colab": {
          "base_uri": "https://localhost:8080/"
        },
        "id": "YeNXJKLbGuS9",
        "outputId": "f10649bd-72ff-4893-c68f-0f43c9664df6"
      },
      "execution_count": null,
      "outputs": [
        {
          "output_type": "stream",
          "name": "stdout",
          "text": [
            "please enter number of your row:4\n",
            "please enter number of your columns:4\n",
            "the array before make opration\n",
            "[[7 4 5 4]\n",
            " [3 8 5 2]\n",
            " [1 0 3 3]\n",
            " [2 9 9 4]]\n",
            "--------------------------------\n",
            "[[8 3 2 5]\n",
            " [4 7 4 5]\n",
            " [9 2 4 9]\n",
            " [0 1 3 3]]\n"
          ]
        }
      ]
    },
    {
      "cell_type": "code",
      "source": [
        "#number 4\n",
        "import numpy as np\n",
        "def main():\n",
        "  x=int(input(\"please enter number of your row:\"))\n",
        "  y=int(input(\"please enter number of your columns:\"))\n",
        "  array = np.random.randint(10, size=(x,y))\n",
        "  cal(array,x,y)\n",
        "def cal(array,x,y):\n",
        "  print(\"the array before make opration\")\n",
        "  print(array)\n",
        "  print(\"--------------------------------\")\n",
        "  for i in range(int(x/2)):\n",
        "    array[: , [2*i,-1*i+3]] = array[: , [-1*i+3,2*i]]\n",
        "  print(array)\n",
        "\n",
        "main()\n"
      ],
      "metadata": {
        "colab": {
          "base_uri": "https://localhost:8080/"
        },
        "id": "7DC6hr0VHS6A",
        "outputId": "0b906ce8-27ef-480e-e397-336bae759f69"
      },
      "execution_count": null,
      "outputs": [
        {
          "output_type": "stream",
          "name": "stdout",
          "text": [
            "please enter number of your row:4\n",
            "please enter number of your columns:4\n",
            "the array before make opration\n",
            "[[0 7 6 6]\n",
            " [6 5 4 3]\n",
            " [1 6 0 7]\n",
            " [5 7 3 3]]\n",
            "--------------------------------\n",
            "[[6 7 6 0]\n",
            " [3 5 4 6]\n",
            " [7 6 0 1]\n",
            " [3 7 3 5]]\n"
          ]
        }
      ]
    },
    {
      "cell_type": "code",
      "source": [
        "#number 5\n",
        "import numpy as np\n",
        "def main():\n",
        "  x=int(input(\"please enter number of your row:\"))\n",
        "  y=int(input(\"please enter number of your columns:\"))\n",
        "  array = np.random.randint(10, size=(x,y))\n",
        "  cal(array,x,y)\n",
        "def cal(array,x,y):\n",
        "  print(\"the array before make opration\")\n",
        "  print(array)\n",
        "  print(\"--------------------------------\")\n",
        "  for i in range(int(x/2)):\n",
        "    array[[2*i,-1*i+3],:] = array[[-1*i+3,2*i],:]\n",
        "  print(array)\n",
        "\n",
        "main()\n"
      ],
      "metadata": {
        "colab": {
          "base_uri": "https://localhost:8080/"
        },
        "id": "5vVasH7NKu5Q",
        "outputId": "ebc6dd62-a5b7-482c-82d1-9250f7be80b7"
      },
      "execution_count": null,
      "outputs": [
        {
          "output_type": "stream",
          "name": "stdout",
          "text": [
            "please enter number of your row:4\n",
            "please enter number of your columns:4\n",
            "the array before make opration\n",
            "[[0 7 8 0]\n",
            " [6 1 7 8]\n",
            " [6 2 0 4]\n",
            " [4 4 3 3]]\n",
            "--------------------------------\n",
            "[[4 4 3 3]\n",
            " [6 1 7 8]\n",
            " [6 2 0 4]\n",
            " [0 7 8 0]]\n"
          ]
        }
      ]
    },
    {
      "cell_type": "code",
      "source": [
        "#number 6\n",
        "import numpy as np\n",
        "def main():\n",
        "  x=int(input(\"please enter number of your row:\"))\n",
        "  y=int(input(\"please enter number of your columns:\"))\n",
        "  array = np.random.randint(10, size=(x,y))\n",
        "  cal(array,x,y)\n",
        "def cal(array,x,y):\n",
        "  print(\"the array before make opration\")\n",
        "  print(array)\n",
        "  print(\"--------------------------------\")\n",
        "  for i in range(x):\n",
        "    if i%2 == 0:\n",
        "      array[i]+=1\n",
        "    else:\n",
        "      array[i]-=1\n",
        "  print(array)\n",
        "\n",
        "main()"
      ],
      "metadata": {
        "colab": {
          "base_uri": "https://localhost:8080/"
        },
        "id": "x-OhJTn_M8Yc",
        "outputId": "e3eeea9c-38ab-4548-ec21-45244f8d5ee3"
      },
      "execution_count": null,
      "outputs": [
        {
          "output_type": "stream",
          "name": "stdout",
          "text": [
            "please enter number of your row:4\n",
            "please enter number of your columns:4\n",
            "the array before make opration\n",
            "[[3 6 6 8]\n",
            " [5 5 2 9]\n",
            " [7 2 0 0]\n",
            " [5 6 1 3]]\n",
            "--------------------------------\n",
            "[[4 7 7 9]\n",
            " [4 4 1 8]\n",
            " [8 3 1 1]\n",
            " [4 5 0 2]]\n"
          ]
        }
      ]
    },
    {
      "cell_type": "code",
      "source": [
        "#number 7\n",
        "import numpy as np\n",
        "def main():\n",
        "  x=int(input(\"please enter number of your row:\"))\n",
        "  y=int(input(\"please enter number of your columns:\"))\n",
        "  array = np.random.randint(10, size=(x,y))\n",
        "  cal(array,x,y)\n",
        "def cal(array,x,y):\n",
        "  print(\"the array before make opration\")\n",
        "  print(array)\n",
        "  print(\"--------------------------------\")\n",
        "  for i in range(x):\n",
        "    for j in range(y):\n",
        "      if array[i][j]%2 == 0:\n",
        "        array[i][j]/=2\n",
        "      else:\n",
        "        array[i][j]+=1\n",
        "  print(array)\n",
        "\n",
        "\n",
        "main()"
      ],
      "metadata": {
        "colab": {
          "base_uri": "https://localhost:8080/"
        },
        "id": "4AKxJzFFUA83",
        "outputId": "4bde9be5-d933-4fc4-d016-07c6f339e8d4"
      },
      "execution_count": null,
      "outputs": [
        {
          "output_type": "stream",
          "name": "stdout",
          "text": [
            "please enter number of your row:4\n",
            "please enter number of your columns:4\n",
            "the array before make opration\n",
            "[[5 3 4 2]\n",
            " [6 9 3 1]\n",
            " [6 4 0 1]\n",
            " [4 2 6 9]]\n",
            "--------------------------------\n",
            "[[ 6  4  2  1]\n",
            " [ 3 10  4  2]\n",
            " [ 3  2  0  2]\n",
            " [ 2  1  3 10]]\n"
          ]
        }
      ]
    },
    {
      "cell_type": "code",
      "source": [
        "#number 11\n",
        "import numpy as np\n",
        "\n",
        "def main():\n",
        "  x=int(input(\"please enter number of your row:\"))\n",
        "  y=int(input(\"please enter number of your columns:\"))\n",
        "  array = np.random.randint(10, size=(x,y))\n",
        "  cal(array,x,y)\n",
        "def cal(array,x,y):\n",
        "  print(\"the array before make opration\")\n",
        "  print(array)\n",
        "  print(\"--------------------------------\")\n",
        "  i=int(input(\"please enter a row:\"))\n",
        "  j=int(input(\"please enter anoter row:\"))\n",
        "  array[[i-1,j-1]] = array[[j-1,i-1]]\n",
        "  print(\"-------------------\")\n",
        "  print(array)\n",
        "main()\n"
      ],
      "metadata": {
        "colab": {
          "base_uri": "https://localhost:8080/"
        },
        "id": "OKjmlNJFUPjC",
        "outputId": "5db0d11c-a972-45a3-f395-b8090b31ef42"
      },
      "execution_count": null,
      "outputs": [
        {
          "output_type": "stream",
          "name": "stdout",
          "text": [
            "please enter number of your row:4\n",
            "please enter number of your columns:4\n",
            "the array before make opration\n",
            "[[2 8 5 6]\n",
            " [5 1 2 7]\n",
            " [2 7 3 8]\n",
            " [9 2 1 7]]\n",
            "--------------------------------\n",
            "please enter a row:2\n",
            "please enter anoter row:3\n",
            "-------------------\n",
            "[[2 8 5 6]\n",
            " [2 7 3 8]\n",
            " [5 1 2 7]\n",
            " [9 2 1 7]]\n"
          ]
        }
      ]
    },
    {
      "cell_type": "code",
      "source": [
        "#number 12\n",
        "import numpy as np\n",
        "\n",
        "def main():\n",
        "  x=int(input(\"please enter number of your row:\"))\n",
        "  y=int(input(\"please enter number of your columns:\"))\n",
        "  array = np.random.randint(10, size=(x,y))\n",
        "  cal(array,x,y)\n",
        "\n",
        "def cal(array,x,y):\n",
        "  print(\"the array before make opration\")\n",
        "  print(array)\n",
        "  new_array = np.random.rand(x,y)\n",
        "  print(\"new random array between 0 & 1:\")\n",
        "  print(new_array)\n",
        "  for i in range(x):\n",
        "    for j in range(y):\n",
        "      if new_array[i][j] > 0.5:\n",
        "        array[i][j]+=1\n",
        "      else:\n",
        "        array[i][j]-=1\n",
        "  print(\"-------------\")\n",
        "  print(array)\n",
        "\n",
        "\n",
        "\n",
        "main()"
      ],
      "metadata": {
        "colab": {
          "base_uri": "https://localhost:8080/"
        },
        "id": "D3NRmfakcBaM",
        "outputId": "3ee3a8a8-40f0-427c-dafe-6c13621f6465"
      },
      "execution_count": null,
      "outputs": [
        {
          "output_type": "stream",
          "name": "stdout",
          "text": [
            "please enter number of your row:4\n",
            "please enter number of your columns:4\n",
            "the array before make opration\n",
            "[[3 7 8 8]\n",
            " [6 6 8 5]\n",
            " [3 1 5 4]\n",
            " [7 8 4 4]]\n",
            "new random array between 0 & 1\n",
            "[[0.94907865 0.17767049 0.9768638  0.42293169]\n",
            " [0.43933877 0.23857626 0.21397749 0.87103518]\n",
            " [0.27321981 0.35563427 0.753107   0.07495353]\n",
            " [0.21198347 0.87632371 0.98699261 0.75971135]]\n",
            "-------------\n",
            "[[4 6 9 7]\n",
            " [5 5 7 6]\n",
            " [2 0 6 3]\n",
            " [6 9 5 5]]\n"
          ]
        }
      ]
    },
    {
      "cell_type": "code",
      "source": [
        "#number 13\n",
        "import numpy as np\n",
        "\n",
        "def main():\n",
        "  x=int(input(\"please enter number of your row:\"))\n",
        "  y=int(input(\"please enter number of your columns:\"))\n",
        "  array = np.random.randint(10, size=(x,y))\n",
        "  cal(array,x,y)\n",
        "def cal(array,x,y):\n",
        "  print(\"the array before make opration\")\n",
        "  print(array)\n",
        "  print(\"--------------------------------\")\n",
        "  array = array.reshape(x*y,1)\n",
        "  print(array)\n",
        "  print(\"-------------\")\n",
        "  n = len(array)\n",
        "  '''for i in range(n-1):\n",
        "    for j in range(0, n-i-1):\n",
        "      if array[j] > array[j + 1]:\n",
        "        swapped = True\n",
        "        array[j], array[j + 1] = array[j + 1], array[j]\n",
        "      if not swapped:\n",
        "          return'''\n",
        "  for i in range(n):\n",
        "    for j in range(0, n - i - 1):\n",
        "      if array[j] > array[j + 1]:\n",
        "        temp = array[j]\n",
        "        array[j] = array[j+1]\n",
        "        array[j+1] = temp\n",
        "        del temp\n",
        "\n",
        "  print(\"array sorted with bubble sort\")\n",
        "  print(array)\n",
        "  print(\"-----------------------------\")\n",
        "  array = array.reshape(x,y)\n",
        "  print(array)\n",
        "\n",
        "main()"
      ],
      "metadata": {
        "colab": {
          "base_uri": "https://localhost:8080/"
        },
        "id": "W2p9eCPgdQBd",
        "outputId": "89dea361-f1c6-4460-cc8b-bc287e22b3be"
      },
      "execution_count": null,
      "outputs": [
        {
          "output_type": "stream",
          "name": "stdout",
          "text": [
            "please enter number of your row:2\n",
            "please enter number of your columns:2\n",
            "the array before make opration\n",
            "[[1 4]\n",
            " [6 8]]\n",
            "--------------------------------\n",
            "[[1]\n",
            " [4]\n",
            " [6]\n",
            " [8]]\n",
            "-------------\n",
            "array sorted with bubble sort\n",
            "[[1]\n",
            " [4]\n",
            " [6]\n",
            " [8]]\n",
            "-----------------------------\n",
            "[[1 4]\n",
            " [6 8]]\n"
          ]
        }
      ]
    },
    {
      "cell_type": "code",
      "source": [
        "#number 16\n",
        "import numpy as np\n",
        "import math\n",
        "\n",
        "def main():\n",
        "  x=int(input(\"please enter number of your row:\"))\n",
        "  y=int(input(\"please enter number of your columns:\"))\n",
        "  array = np.random.randint(20, size=(x,y))\n",
        "  cal(array,x,y)\n",
        "def cal(array,x,y):\n",
        "  print(\"the array before make opration\")\n",
        "  print(array)\n",
        "  print(\"--------------------------------\")\n",
        "  for i in range(x):\n",
        "    for j in range(y):\n",
        "      if array[i][j] >= 10:\n",
        "        array[i][j]/=2\n",
        "      else:\n",
        "        array[i][j] = math.sqrt(array[i][j])\n",
        "\n",
        "  print(array)\n",
        "\n",
        "main()\n"
      ],
      "metadata": {
        "colab": {
          "base_uri": "https://localhost:8080/"
        },
        "id": "-kpb2LvDg2cl",
        "outputId": "0864e013-08e0-433e-a562-14ffc124207a"
      },
      "execution_count": null,
      "outputs": [
        {
          "output_type": "stream",
          "name": "stdout",
          "text": [
            "please enter number of your row:3\n",
            "please enter number of your columns:3\n",
            "the array before make opration\n",
            "[[13 16 11]\n",
            " [ 9  2 19]\n",
            " [ 1 17  1]]\n",
            "--------------------------------\n",
            "[[6 8 5]\n",
            " [3 1 9]\n",
            " [1 8 1]]\n"
          ]
        }
      ]
    },
    {
      "cell_type": "code",
      "source": [
        "#number 17\n",
        "import numpy as np\n",
        "\n",
        "def main():\n",
        "  x=int(input(\"please enter number of your row:\"))\n",
        "  y=int(input(\"please enter number of your columns:\"))\n",
        "  array = np.random.randint(10, size=(x,y))\n",
        "  cal(array,x,y)\n",
        "\n",
        "def cal(array,x,y):\n",
        "  print(\"the array before make opration\")\n",
        "  print(array)\n",
        "  print(\"-------------------------------\")\n",
        "  for i in range(x):\n",
        "    for j in range(y):\n",
        "      array[i][j] = 50 #our formula in question is 2x+10-2x+40 => 50\n",
        "\n",
        "  print(array)\n",
        "\n",
        "main()"
      ],
      "metadata": {
        "colab": {
          "base_uri": "https://localhost:8080/"
        },
        "id": "AlKHQlgB3pWh",
        "outputId": "ad07f207-4cba-4317-a5c8-61395fbd65cc"
      },
      "execution_count": null,
      "outputs": [
        {
          "output_type": "stream",
          "name": "stdout",
          "text": [
            "please enter number of your row:2\n",
            "please enter number of your columns:2\n",
            "the array before make opration\n",
            "[[6 1]\n",
            " [9 6]]\n",
            "-------------------------------\n",
            "[[50 50]\n",
            " [50 50]]\n"
          ]
        }
      ]
    },
    {
      "cell_type": "code",
      "source": [
        "#number 20\n",
        "import random\n",
        "\n",
        "def main():\n",
        "  x=int(input(\"please enter a number for len list:\"))\n",
        "  list1=[]\n",
        "  for i in range(x):\n",
        "    n=random.randint(1,10)\n",
        "    list1.append(n)\n",
        "  print(list1)\n",
        "  cal(list1,x)\n",
        "def cal(list1,x):\n",
        "  new_list1=[]\n",
        "  new_list2=[]\n",
        "  for i in range(x-1):\n",
        "    y=list1[i]+list1[i+1]\n",
        "    y/=2\n",
        "    new_list1.append(y)\n",
        "    z=list1[i]-list1[i+1]\n",
        "    z/=2\n",
        "    new_list2.append(z)\n",
        "  print(new_list1)\n",
        "  print(new_list2)\n",
        "\n",
        "main()"
      ],
      "metadata": {
        "colab": {
          "base_uri": "https://localhost:8080/"
        },
        "id": "PYUkeV005_1Q",
        "outputId": "1ec3e153-30c9-410f-aee0-cbb9f8f9c9b2"
      },
      "execution_count": null,
      "outputs": [
        {
          "output_type": "stream",
          "name": "stdout",
          "text": [
            "please enter a number for len list:4\n",
            "[8, 5, 4, 5]\n",
            "[6.5, 4.5, 4.5]\n",
            "[1.5, 0.5, -0.5]\n"
          ]
        }
      ]
    },
    {
      "cell_type": "code",
      "source": [
        "#number 21\n",
        "import random\n",
        "\n",
        "def main():\n",
        "  x=int(input(\"please enter a number for len list:\"))\n",
        "  list1=[]\n",
        "  for i in range(x):\n",
        "    n=random.randint(1,10)\n",
        "    list1.append(n)\n",
        "  print(list1)\n",
        "  cal(list1,x)\n",
        "def cal(list1,x):\n",
        "  new_list1=[]\n",
        "  new_list2=[]\n",
        "  for i in range(int(x/2)):\n",
        "    y=list1[2*i]+list1[2*i+1]\n",
        "    y/=2\n",
        "    new_list1.append(y)\n",
        "    z=list1[2*i+1]-list1[2*i]\n",
        "    new_list2.append(z)\n",
        "  print(new_list1)\n",
        "  print(new_list2)\n",
        "\n",
        "main()"
      ],
      "metadata": {
        "colab": {
          "base_uri": "https://localhost:8080/"
        },
        "id": "QMkBjKAw-I-X",
        "outputId": "60665a29-a951-4fd6-d2cd-46e84113ac5a"
      },
      "execution_count": null,
      "outputs": [
        {
          "output_type": "stream",
          "name": "stdout",
          "text": [
            "please enter a number for len list:4\n",
            "[6, 10, 7, 10]\n",
            "[8.0, 8.5]\n",
            "[4, 3]\n"
          ]
        }
      ]
    },
    {
      "cell_type": "code",
      "source": [
        "#number 22\n",
        "import numpy as np\n",
        "\n",
        "def main():\n",
        "  x=int(input(\"please enter number of your row:\"))\n",
        "  y=int(input(\"please enter number of your columns:\"))\n",
        "  array = np.random.randint(10, size=(x,y))\n",
        "  cal(array,x,y)\n",
        "def cal(array,x,y):\n",
        "  print(\"the array before make opration\")\n",
        "  print(array)\n",
        "  print(\"--------------------------------\")\n",
        "  array=array.astype(float)\n",
        "  z=array.max()\n",
        "  for i in range(x):\n",
        "    for j in range(y):\n",
        "      array[i][j] = array[i][j] / z\n",
        "  print(array)\n",
        "\n",
        "main()"
      ],
      "metadata": {
        "colab": {
          "base_uri": "https://localhost:8080/"
        },
        "id": "eoeArVlQBxwj",
        "outputId": "01740b8b-ae52-4917-e2d1-a1fb2e1eec86"
      },
      "execution_count": null,
      "outputs": [
        {
          "output_type": "stream",
          "name": "stdout",
          "text": [
            "please enter number of your row:3\n",
            "please enter number of your columns:3\n",
            "the array before make opration\n",
            "[[8 4 1]\n",
            " [8 7 8]\n",
            " [7 0 3]]\n",
            "--------------------------------\n",
            "[[1.    0.5   0.125]\n",
            " [1.    0.875 1.   ]\n",
            " [0.875 0.    0.375]]\n"
          ]
        }
      ]
    },
    {
      "cell_type": "code",
      "source": [
        "#number 23\n",
        "\n",
        "import numpy as np\n",
        "\n",
        "def main():\n",
        "  x=int(input(\"please enter number of your row:\"))\n",
        "  y=int(input(\"please enter number of your columns:\"))\n",
        "  array = np.random.randint(10, size=(x,y))\n",
        "  print(\"our array before operation\")\n",
        "  print(array)\n",
        "  print(\"--------------------------\")\n",
        "  cal(array,x,y)\n",
        "def cal(array,x,y):\n",
        "  array=array.astype(float)\n",
        "  for i in range(y):\n",
        "    z=array.max(axis=0)\n",
        "    array[:,i] = array[:,i]/z\n",
        "  print(array)\n",
        "\n",
        "main()"
      ],
      "metadata": {
        "colab": {
          "base_uri": "https://localhost:8080/"
        },
        "id": "pxdVqlZzEnT3",
        "outputId": "b0fdbb24-3a78-4846-e5fa-d42fad266ff4"
      },
      "execution_count": null,
      "outputs": [
        {
          "output_type": "stream",
          "name": "stdout",
          "text": [
            "please enter number of your row:3\n",
            "please enter number of your columns:3\n",
            "our array before operation\n",
            "[[6 9 4]\n",
            " [7 0 9]\n",
            " [5 2 7]]\n",
            "-----------\n",
            "[[ 0.85714286 10.5         4.66666667]\n",
            " [ 0.77777778  0.          0.85714286]\n",
            " [ 0.55555556  0.22222222  0.77777778]]\n"
          ]
        }
      ]
    },
    {
      "cell_type": "code",
      "source": [
        "#number 28\n",
        "import numpy as np\n",
        "\n",
        "def main():\n",
        "  x=int(input(\"please enter number for our rows and columns:\"))\n",
        "  array=np.random.rand(x,x)\n",
        "  print(\"array before operation:\")\n",
        "  print(array)\n",
        "  print(\"-----------------------\")\n",
        "  cal(array,x)\n",
        "def cal(array,x):\n",
        "  for i in range(x):\n",
        "    for j in range(x):\n",
        "      if array[i][j] < 0.2:\n",
        "        array[i][j] = 0\n",
        "      else:\n",
        "        array[i][j] = 1\n",
        "  array=array.astype(int)\n",
        "  print(array)\n",
        "\n",
        "main()"
      ],
      "metadata": {
        "colab": {
          "base_uri": "https://localhost:8080/"
        },
        "id": "B0LmPlMIIRGA",
        "outputId": "8dc109c0-d5e7-4ea1-f249-a56b03eff6b5"
      },
      "execution_count": null,
      "outputs": [
        {
          "output_type": "stream",
          "name": "stdout",
          "text": [
            "please enter number for our rows and columns:2\n",
            "array before operation:\n",
            "[[0.69220308 0.90978468]\n",
            " [0.3051055  0.7632946 ]]\n",
            "-----------------------\n",
            "[[1 1]\n",
            " [1 1]]\n"
          ]
        }
      ]
    },
    {
      "cell_type": "code",
      "source": [
        "#number 45\n",
        "import numpy as np\n",
        "\n",
        "def main():\n",
        "  x=int(input(\"please enter number of your row:\"))\n",
        "  y=int(input(\"please enter number of your columns:\"))\n",
        "  array = np.random.randint(10, size=(x,y))\n",
        "  array2 = np.random.randint(10, size=(x,y))\n",
        "  cal(array,array2,x,y)\n",
        "def cal(array,array2,x,y):\n",
        "  print(\"the first array before make operation:\")\n",
        "  print(array)\n",
        "  print(\"the second array before make operation:\")\n",
        "  print(array2)\n",
        "  print(\"--------------------------------\")\n",
        "  s=(x,y)\n",
        "  new_array=np.zeros(s)\n",
        "  for i in range(x):\n",
        "    for j in range(y):\n",
        "      if array[i][j]> array2[i][j]:\n",
        "        new_array[i][j] = array[i][j]\n",
        "      else:\n",
        "        new_array[i][j] = array2[i][j]\n",
        "\n",
        "  print(new_array)\n",
        "\n",
        "main()"
      ],
      "metadata": {
        "colab": {
          "base_uri": "https://localhost:8080/"
        },
        "id": "5d11YqI3Mq50",
        "outputId": "cf9d9935-35af-4079-89a5-5b5543db4323"
      },
      "execution_count": null,
      "outputs": [
        {
          "output_type": "stream",
          "name": "stdout",
          "text": [
            "please enter number of your row:4\n",
            "please enter number of your columns:4\n",
            "the first array before make operation:\n",
            "[[7 2 1 2]\n",
            " [9 7 5 5]\n",
            " [0 6 4 5]\n",
            " [2 3 2 8]]\n",
            "the second array before make operation:\n",
            "[[8 5 6 2]\n",
            " [6 0 0 9]\n",
            " [0 5 4 5]\n",
            " [8 3 9 1]]\n",
            "--------------------------------\n",
            "[[8. 5. 6. 2.]\n",
            " [9. 7. 5. 9.]\n",
            " [0. 6. 4. 5.]\n",
            " [8. 3. 9. 8.]]\n"
          ]
        }
      ]
    },
    {
      "cell_type": "code",
      "source": [
        "#number 18\n",
        "import numpy as np\n",
        "def main():\n",
        "  x=int(input(\"please enter number of your row:\"))\n",
        "  y=int(input(\"please enter number of your columns:\"))\n",
        "  array = np.random.randint(10, size=(x,y))\n",
        "  cal(array,x,y)\n",
        "def cal(array,x,y):\n",
        "  print(\"the array before make opration\")\n",
        "  print(array)\n",
        "  print(\"--------------------------------\")\n",
        "  s=(2*x,2*y)\n",
        "  new_array=np.zeros(s)\n",
        "  for i in range(x):\n",
        "    for j in range(2*x):\n",
        "      if j < 2:\n",
        "        new_array[i][j] = array[0][0]\n",
        "      else:\n",
        "        new_array[i][j] = array[0][1]\n",
        "  for i in range(2*x):\n",
        "    if i >= 2:\n",
        "      for j in range(2*x):\n",
        "        if j < 2:\n",
        "          new_array[i][j] = array[1][0]\n",
        "        else:\n",
        "          new_array[i][j] = array[1][1]\n",
        "  print(new_array)    \n",
        "main()"
      ],
      "metadata": {
        "colab": {
          "base_uri": "https://localhost:8080/"
        },
        "id": "FV_AwxMeXCEZ",
        "outputId": "787c300f-1f68-4b60-a86e-0c9a5bd92f69"
      },
      "execution_count": null,
      "outputs": [
        {
          "output_type": "stream",
          "name": "stdout",
          "text": [
            "please enter number of your row:2\n",
            "please enter number of your columns:2\n",
            "the array before make opration\n",
            "[[5 7]\n",
            " [1 8]]\n",
            "--------------------------------\n",
            "[[5. 5. 7. 7.]\n",
            " [5. 5. 7. 7.]\n",
            " [1. 1. 8. 8.]\n",
            " [1. 1. 8. 8.]]\n"
          ]
        }
      ]
    },
    {
      "cell_type": "code",
      "source": [
        "#number 25\n",
        "import numpy as np\n",
        "\n",
        "def main():\n",
        "  x=int(input(\"please enter number of your row:\"))\n",
        "  y=int(input(\"please enter number of your columns:\"))\n",
        "  array = np.random.randint(10, size=(x,y))\n",
        "  array2= np.random.randint(10, size=(x,y))\n",
        "  cal(array,array2,x,y)\n",
        "def cal(array,array2,x,y):\n",
        "  print(\"the first array\")\n",
        "  print(array)\n",
        "  print(\"the second array\")\n",
        "  print(array2)\n",
        "  print(\"--------------------------------\")\n",
        "  s=(x,y)\n",
        "  new_array=np.zeros(s)\n",
        "  for i in range(x):\n",
        "    for j in range(y):\n",
        "      if j%2 == 0:\n",
        "        new_array[i][j] = array[i][j]\n",
        "      else:\n",
        "        new_array[i][j] = array2[i][j]\n",
        "  print(new_array)\n",
        "main()"
      ],
      "metadata": {
        "colab": {
          "base_uri": "https://localhost:8080/"
        },
        "id": "JmB_zZfQlc8m",
        "outputId": "db58919a-c543-45ee-80c0-68c5c7c6030f"
      },
      "execution_count": null,
      "outputs": [
        {
          "output_type": "stream",
          "name": "stdout",
          "text": [
            "please enter number of your row:3\n",
            "please enter number of your columns:3\n",
            "the first array\n",
            "[[8 0 2]\n",
            " [7 4 3]\n",
            " [4 2 3]]\n",
            "the second array\n",
            "[[9 0 8]\n",
            " [7 8 8]\n",
            " [0 2 8]]\n",
            "--------------------------------\n",
            "[[8. 0. 2.]\n",
            " [7. 8. 3.]\n",
            " [4. 2. 3.]]\n"
          ]
        }
      ]
    },
    {
      "cell_type": "code",
      "source": [],
      "metadata": {
        "id": "zLmfhtCfO-6i"
      },
      "execution_count": null,
      "outputs": []
    }
  ]
}