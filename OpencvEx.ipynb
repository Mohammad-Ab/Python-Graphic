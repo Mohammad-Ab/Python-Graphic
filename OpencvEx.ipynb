{
  "nbformat": 4,
  "nbformat_minor": 0,
  "metadata": {
    "colab": {
      "provenance": [],
      "authorship_tag": "ABX9TyMtT57JKC/Pivm4brx2vCSe",
      "include_colab_link": true
    },
    "kernelspec": {
      "name": "python3",
      "display_name": "Python 3"
    },
    "language_info": {
      "name": "python"
    }
  },
  "cells": [
    {
      "cell_type": "markdown",
      "metadata": {
        "id": "view-in-github",
        "colab_type": "text"
      },
      "source": [
        "<a href=\"https://colab.research.google.com/github/Mohammad-Ab/Python-Graphic/blob/main/OpencvEx.ipynb\" target=\"_parent\"><img src=\"https://colab.research.google.com/assets/colab-badge.svg\" alt=\"Open In Colab\"/></a>"
      ]
    },
    {
      "cell_type": "code",
      "source": [
        "import cv2\n",
        "import numpy as np\n",
        "from google.colab.patches import cv2_imshow\n",
        "\n",
        "\n",
        "img = np.zeros((500, 500, 3), np.uint8)\n",
        "\n",
        "for i in range(0, 500, 50):\n",
        "    for j in range(0, 500, 50):\n",
        "        if (i // 50 + j // 50) % 3 == 0:\n",
        "            img[i:i+50, j:j+50] = (255, 0, 0)\n",
        "        elif (i // 50 + j // 50) % 3 == 1:\n",
        "            img[i:i+50, j:j+50] = (0, 255, 0)\n",
        "        else:\n",
        "            img[i:i+50, j:j+50] = (0, 0, 255)\n",
        "\n",
        "cv2_imshow(img)\n",
        "cv2.waitKey(0)\n",
        "cv2.destroyAllWindows()"
      ],
      "metadata": {
        "colab": {
          "base_uri": "https://localhost:8080/",
          "height": 517
        },
        "id": "-TsU1hYMtCfJ",
        "outputId": "2ee6b73a-26f2-41ae-829f-419770518450"
      },
      "execution_count": 22,
      "outputs": [
        {
          "output_type": "display_data",
          "data": {
            "text/plain": [
              "<PIL.Image.Image image mode=RGB size=500x500 at 0x7FFB9CA908E0>"
            ],
            "image/png": "[encoded data removed]"
          },
          "metadata": {}
        }
      ]
    },
    {
      "cell_type": "code",
      "source": [
        "import cv2\n",
        "import numpy as np\n",
        "from google.colab.patches import cv2_imshow\n",
        "\n",
        "# Create a black image of size 500x500 with 3 channels (RGB)\n",
        "img = np.zeros((500, 500, 3), np.uint8)\n",
        "\n",
        "# Draw an oval in the top-left corner of the image with full green color\n",
        "cv2.ellipse(img, (70, 70), (65, 45), 0, 0, 360, (0, 255, 0), -1)\n",
        "\n",
        "# Draw a rectangle in the top-right corner of the image with full orange color\n",
        "cv2.rectangle(img, (160, 120), (300, 20), (0, 165, 255), -1)\n",
        "\n",
        "#draw star using 2 triangle\n",
        "pts = np.array([[350,40],[450,40],[400,130]],np.int32)\n",
        "pts = pts.reshape((-1,1,2))\n",
        "cv2.fillPoly(img,[pts],(203,192,255))\n",
        "\n",
        "pts = np.array([[350,110],[450,110],[400,20]],np.int32)\n",
        "pts = pts.reshape((-1,1,2))\n",
        "cv2.fillPoly(img,[pts],(203,192,255))\n",
        "\n",
        "# Draw a cube in the bottom-right corner of the image with full red color\n",
        "cv2.rectangle(img, (30, 300), (130, 400), (0, 0, 255), -1)\n",
        "\n",
        "# Draw a circle in the center of the image with full yellow color\n",
        "cv2.circle(img,(250,350),70,(0,255,255),-1)\n",
        "\n",
        "# Draw a triangle in the center of the image with full purple color\n",
        "pts = np.array([[350,400],[450,400],[400,250]],np.int32)\n",
        "pts = pts.reshape((-1,1,2))\n",
        "cv2.fillPoly(img,[pts],(128,0,128))\n",
        "\n",
        "# Display the image\n",
        "cv2_imshow(img)\n",
        "cv2.waitKey(0)\n",
        "cv2.destroyAllWindows()"
      ],
      "metadata": {
        "colab": {
          "base_uri": "https://localhost:8080/",
          "height": 517
        },
        "id": "t_EOWHrnz5Ox",
        "outputId": "e3bd4af5-2a80-4007-ecfd-5b7fb8694f0a"
      },
      "execution_count": 104,
      "outputs": [
        {
          "output_type": "display_data",
          "data": {
            "text/plain": [
              "<PIL.Image.Image image mode=RGB size=500x500 at 0x7FFB9CBCF1C0>"
            ],
            "image/png": "[encoded data removed]"
          },
          "metadata": {}
        }
      ]
    },
    {
      "cell_type": "code",
      "source": [],
      "metadata": {
        "id": "UEIOjhZy3For"
      },
      "execution_count": null,
      "outputs": []
    }
  ]
}